{
 "cells": [
  {
   "cell_type": "code",
   "execution_count": 1,
   "metadata": {},
   "outputs": [],
   "source": [
    "from bs4 import BeautifulSoup\n",
    "import pandas as pd\n",
    "import json\n",
    "import requests\n",
    "from urllib.request import urlopen\n",
    "from datetime import datetime\n",
    "from tqdm import tqdm\n",
    "import time\n",
    "from selenium import webdriver\n",
    "from selenium.webdriver.support.ui import WebDriverWait\n",
    "from selenium.webdriver.support import expected_conditions as EC\n",
    "from selenium.webdriver.common.by import By"
   ]
  },
  {
   "cell_type": "code",
   "execution_count": 2,
   "metadata": {},
   "outputs": [],
   "source": [
    "links = [\n",
    "\"https://www.utusanborneo.com.my/nasional\",\n",
    "\"https://www.utusanborneo.com.my/sarawak\",\n",
    "\"https://www.utusanborneo.com.my/sabah\",\n",
    "\"https://www.utusanborneo.com.my/dunia\",\n",
    "\"https://www.utusanborneo.com.my/iban\",\n",
    "\"https://www.utusanborneo.com.my/sukan\",\n",
    "\"https://www.utusanborneo.com.my/ekonomi\",\n",
    "\"https://www.utusanborneo.com.my/mahkamah\",\n",
    "\"https://www.utusanborneo.com.my/rencana\",\n",
    "\"https://www.utusanborneo.com.my/horizon\",\n",
    "\"https://www.utusanborneo.com.my/hiburan\",\n",
    "\"https://www.utusanborneo.com.my/pru15\"\n",
    "]"
   ]
  },
  {
   "cell_type": "code",
   "execution_count": 21,
   "metadata": {},
   "outputs": [
    {
     "ename": "NameError",
     "evalue": "name 'links' is not defined",
     "output_type": "error",
     "traceback": [
      "\u001b[1;31m---------------------------------------------------------------------------\u001b[0m",
      "\u001b[1;31mNameError\u001b[0m                                 Traceback (most recent call last)",
      "Cell \u001b[1;32mIn[21], line 4\u001b[0m\n\u001b[0;32m      1\u001b[0m hrefs \u001b[39m=\u001b[39m []\n\u001b[0;32m      2\u001b[0m batch_size \u001b[39m=\u001b[39m \u001b[39m64\u001b[39m\n\u001b[1;32m----> 4\u001b[0m \u001b[39mfor\u001b[39;00m i \u001b[39min\u001b[39;00m tqdm(links):\n\u001b[0;32m      6\u001b[0m     x \u001b[39m=\u001b[39m \u001b[39m0\u001b[39m\n\u001b[0;32m      8\u001b[0m     \u001b[39mwhile\u001b[39;00m \u001b[39mTrue\u001b[39;00m:\n",
      "\u001b[1;31mNameError\u001b[0m: name 'links' is not defined"
     ]
    }
   ],
   "source": [
    "hrefs = []\n",
    "batch_size = 64\n",
    "\n",
    "for i in tqdm(links):\n",
    "\n",
    "    x = 0\n",
    "\n",
    "    while True:\n",
    "\n",
    "        while True:\n",
    "            try:\n",
    "                r = requests.get(f'{i}?page={x}',headers = headers)\n",
    "                print(x)\n",
    "                break\n",
    "            except Exception as e:\n",
    "                print(e)\n",
    "                time.sleep(1.0)\n",
    "        \n",
    "\n",
    "        soup = BeautifulSoup(r.text, \"lxml\")\n",
    "\n",
    "        div = soup.find_all('h4')\n",
    "\n",
    "        if len(div) == 0:\n",
    "            break\n",
    "\n",
    "        for link in soup.find_all('h4'):\n",
    "            \n",
    "            href = link.find('a').get('href')\n",
    "            hrefs.append(\"https://www.utusanborneo.com.my/\"+href)\n",
    "\n",
    "                       # Check if the batch size is reached\n",
    "            if len(hrefs) >= batch_size:\n",
    "                # Write the batch to the JSON file\n",
    "                with open('utusanborneo-link.json', 'a') as f:\n",
    "                    json.dump(hrefs, f)\n",
    "                    f.write('\\n')\n",
    "\n",
    "                # Clear the batch\n",
    "                hrefs = []\n",
    "                \n",
    "        \n",
    "        x = x + 1\n",
    "\n",
    "# Write any remaining data to the JSON file\n",
    "if len(hrefs) > 0:\n",
    "    with open('utusanborneo-link.json', 'a') as f:\n",
    "        json.dump(hrefs, f)\n",
    "        f.write('\\n')"
   ]
  },
  {
   "cell_type": "code",
   "execution_count": 2,
   "metadata": {},
   "outputs": [],
   "source": [
    "with open('utusanborneo-link.json') as fopen:\n",
    "    hrefs = json.load(fopen)"
   ]
  },
  {
   "cell_type": "code",
   "execution_count": 3,
   "metadata": {},
   "outputs": [],
   "source": [
    "link = hrefs[188508:]"
   ]
  },
  {
   "cell_type": "code",
   "execution_count": 4,
   "metadata": {},
   "outputs": [
    {
     "data": {
      "text/plain": [
       "'https://www.utusanborneo.com.my//2015/05/05/pencapaian-skuad-miri-amat-membanggakan'"
      ]
     },
     "execution_count": 4,
     "metadata": {},
     "output_type": "execute_result"
    }
   ],
   "source": [
    "hrefs[188508]"
   ]
  },
  {
   "cell_type": "code",
   "execution_count": 5,
   "metadata": {},
   "outputs": [
    {
     "data": {
      "text/plain": [
       "21483"
      ]
     },
     "execution_count": 5,
     "metadata": {},
     "output_type": "execute_result"
    }
   ],
   "source": [
    "len(link)"
   ]
  },
  {
   "cell_type": "code",
   "execution_count": 6,
   "metadata": {},
   "outputs": [],
   "source": [
    "headers = {'User-Agent': 'Mozilla/5.0 (Windows NT 6.1; WOW64) AppleWebKit/537.36 (KHTML, like Gecko) Chrome/56.0.2924.76 Safari/537.36'} # This is chrome, you can set whatever browser you like\n"
   ]
  },
  {
   "cell_type": "code",
   "execution_count": 7,
   "metadata": {},
   "outputs": [
    {
     "name": "stderr",
     "output_type": "stream",
     "text": [
      " 17%|█▋        | 3753/21483 [50:58<4:33:30,  1.08it/s] "
     ]
    },
    {
     "name": "stdout",
     "output_type": "stream",
     "text": [
      "HTTPSConnectionPool(host='www.utusanborneo.com.my', port=443): Max retries exceeded with url: //2022/02/24/1mdb-semua-pelaburan-luar-negara-oleh-entiti-pemastautin-tertakluk-kepada-akpw-1953 (Caused by ConnectTimeoutError(<urllib3.connection.HTTPSConnection object at 0x000001DD0F94E0D0>, 'Connection to www.utusanborneo.com.my timed out. (connect timeout=None)'))\n"
     ]
    },
    {
     "name": "stderr",
     "output_type": "stream",
     "text": [
      " 17%|█▋        | 3754/21483 [51:26<45:00:28,  9.14s/it]"
     ]
    },
    {
     "name": "stdout",
     "output_type": "stream",
     "text": [
      "HTTPSConnectionPool(host='www.utusanborneo.com.my', port=443): Max retries exceeded with url: //2022/02/24/negara-berada-pada-unjuran-yang-baik-untuk-capai-sasaran-ekonomi-yang-ditetapkan (Caused by ConnectTimeoutError(<urllib3.connection.HTTPSConnection object at 0x000001DD0F74EF90>, 'Connection to www.utusanborneo.com.my timed out. (connect timeout=None)'))\n"
     ]
    },
    {
     "name": "stderr",
     "output_type": "stream",
     "text": [
      " 18%|█▊        | 3767/21483 [52:58<62:10:08, 12.63s/it]"
     ]
    },
    {
     "name": "stdout",
     "output_type": "stream",
     "text": [
      "HTTPSConnectionPool(host='www.utusanborneo.com.my', port=443): Max retries exceeded with url: //2022/02/19/ringgit-diunjur-diniagakan-dalam-jajaran-kecil-berbanding-dolar-as-minggu-depan (Caused by ConnectTimeoutError(<urllib3.connection.HTTPSConnection object at 0x000001DD0F7AA010>, 'Connection to www.utusanborneo.com.my timed out. (connect timeout=None)'))\n"
     ]
    },
    {
     "name": "stderr",
     "output_type": "stream",
     "text": [
      " 18%|█▊        | 3768/21483 [53:43<109:57:15, 22.34s/it]"
     ]
    },
    {
     "name": "stdout",
     "output_type": "stream",
     "text": [
      "HTTPSConnectionPool(host='www.utusanborneo.com.my', port=443): Read timed out. (read timeout=None)\n"
     ]
    },
    {
     "name": "stderr",
     "output_type": "stream",
     "text": [
      " 18%|█▊        | 3770/21483 [54:57<138:29:29, 28.15s/it]"
     ]
    },
    {
     "name": "stdout",
     "output_type": "stream",
     "text": [
      "HTTPSConnectionPool(host='www.utusanborneo.com.my', port=443): Read timed out. (read timeout=None)\n"
     ]
    },
    {
     "name": "stderr",
     "output_type": "stream",
     "text": [
      " 36%|███▌      | 7670/21483 [1:49:01<4:27:23,  1.16s/it] "
     ]
    },
    {
     "name": "stdout",
     "output_type": "stream",
     "text": [
      "HTTPSConnectionPool(host='www.utusanborneo.com.my', port=443): Max retries exceeded with url: //2017/11/03/tupperware-rai-pengedar-zon-utara-sarawak (Caused by ConnectTimeoutError(<urllib3.connection.HTTPSConnection object at 0x000001DD0F2E4F90>, 'Connection to www.utusanborneo.com.my timed out. (connect timeout=None)'))\n"
     ]
    },
    {
     "name": "stderr",
     "output_type": "stream",
     "text": [
      " 36%|███▌      | 7673/21483 [1:49:37<22:23:21,  5.84s/it]"
     ]
    },
    {
     "name": "stdout",
     "output_type": "stream",
     "text": [
      "HTTPSConnectionPool(host='www.utusanborneo.com.my', port=443): Max retries exceeded with url: //2017/11/01/mustapa-mahu-hubungan-ekonomi-yang-kukuh-dengan-negara-seperti-as (Caused by ConnectTimeoutError(<urllib3.connection.HTTPSConnection object at 0x000001DD0F76CCD0>, 'Connection to www.utusanborneo.com.my timed out. (connect timeout=None)'))\n"
     ]
    },
    {
     "name": "stderr",
     "output_type": "stream",
     "text": [
      " 36%|███▌      | 7686/21483 [1:50:13<3:19:36,  1.15it/s] "
     ]
    },
    {
     "name": "stdout",
     "output_type": "stream",
     "text": [
      "HTTPSConnectionPool(host='www.utusanborneo.com.my', port=443): Max retries exceeded with url: //2017/10/27/pertanian-kembali-meningkat-dipacu-pengeluaran-getah-kelapa-sawit (Caused by ConnectTimeoutError(<urllib3.connection.HTTPSConnection object at 0x000001DD0F500990>, 'Connection to www.utusanborneo.com.my timed out. (connect timeout=None)'))\n"
     ]
    },
    {
     "name": "stderr",
     "output_type": "stream",
     "text": [
      " 59%|█████▉    | 12741/21483 [2:57:58<2:00:05,  1.21it/s] "
     ]
    },
    {
     "name": "stdout",
     "output_type": "stream",
     "text": [
      "HTTPSConnectionPool(host='www.utusanborneo.com.my', port=443): Max retries exceeded with url: //2019/11/30/adun-gadek-didakwa-di-bawah-sosma-dibenar-mohon-ikat-jamin (Caused by ConnectTimeoutError(<urllib3.connection.HTTPSConnection object at 0x000001DD0F7A0090>, 'Connection to www.utusanborneo.com.my timed out. (connect timeout=None)'))\n"
     ]
    },
    {
     "name": "stderr",
     "output_type": "stream",
     "text": [
      " 61%|██████    | 13070/21483 [3:03:35<5:49:49,  2.49s/it] "
     ]
    },
    {
     "name": "stdout",
     "output_type": "stream",
     "text": [
      "HTTPSConnectionPool(host='www.utusanborneo.com.my', port=443): Max retries exceeded with url: //2019/08/24/cabul-kehormatan-lelaki-mengaku-tidak-salah (Caused by ConnectTimeoutError(<urllib3.connection.HTTPSConnection object at 0x000001DD0F512190>, 'Connection to www.utusanborneo.com.my timed out. (connect timeout=None)'))\n"
     ]
    },
    {
     "name": "stderr",
     "output_type": "stream",
     "text": [
      " 71%|███████   | 15263/21483 [3:32:39<1:23:14,  1.25it/s] "
     ]
    },
    {
     "name": "stdout",
     "output_type": "stream",
     "text": [
      "HTTPSConnectionPool(host='www.utusanborneo.com.my', port=443): Max retries exceeded with url: //2018/02/10/tiga-lelaki-mengaku-bersalah-bermain-judi-di-tempat-awam (Caused by ConnectTimeoutError(<urllib3.connection.HTTPSConnection object at 0x000001DD0F6FB290>, 'Connection to www.utusanborneo.com.my timed out. (connect timeout=None)'))\n"
     ]
    },
    {
     "name": "stderr",
     "output_type": "stream",
     "text": [
      " 75%|███████▌  | 16156/21483 [3:45:13<1:18:20,  1.13it/s] "
     ]
    },
    {
     "name": "stdout",
     "output_type": "stream",
     "text": [
      "HTTPSConnectionPool(host='www.utusanborneo.com.my', port=443): Max retries exceeded with url: //2017/05/18/gagal-hadir-kes-rusuhan-mahkamah-keluar-waran-tangkap-empat-lelaki (Caused by ConnectTimeoutError(<urllib3.connection.HTTPSConnection object at 0x000001DD0FA240D0>, 'Connection to www.utusanborneo.com.my timed out. (connect timeout=None)'))\n"
     ]
    },
    {
     "name": "stderr",
     "output_type": "stream",
     "text": [
      " 80%|███████▉  | 17098/21483 [3:59:46<2:38:51,  2.17s/it] "
     ]
    },
    {
     "name": "stdout",
     "output_type": "stream",
     "text": [
      "HTTPSConnectionPool(host='www.utusanborneo.com.my', port=443): Max retries exceeded with url: //2016/05/08/bazar-gawai-dayak-kapit-mendapat-sambutan-meriah (Caused by NewConnectionError('<urllib3.connection.HTTPSConnection object at 0x000001DD10A53910>: Failed to establish a new connection: [Errno 11001] getaddrinfo failed'))\n"
     ]
    },
    {
     "name": "stderr",
     "output_type": "stream",
     "text": [
      "100%|██████████| 21483/21483 [5:01:50<00:00,  1.19it/s]  \n"
     ]
    }
   ],
   "source": [
    "for x in tqdm(link):\n",
    "\n",
    "    while True:\n",
    "        try:\n",
    "\n",
    "            r = requests.get(x,headers=headers)\n",
    "            \n",
    "            break\n",
    "\n",
    "        except Exception as e:\n",
    "            print(e)\n",
    "            time.sleep(5.0)\n",
    "\n",
    "        \n",
    "    soup = BeautifulSoup(r.text, \"lxml\")\n",
    "\n",
    "    try:\n",
    "        h = soup.find('div', class_=\"field-items\")\n",
    "        p = [p.text for p in h.find_all(\"p\") if len(p.text.split()) > 20]\n",
    "    except Exception as e:\n",
    "        print(e)\n",
    "        continue\n",
    "\n",
    "\n",
    "\n",
    "    \n",
    "\n",
    "    # if len(p) == 0:\n",
    "    #         h = soup.find('div', class_=\"td-post-content tagdiv-type\")\n",
    "    #         p = [p.text for p in h.find_all('div') if len(p.text.split()) > 20 and p.get('class') == None]\n",
    "\n",
    "\n",
    "    data = {'url': x, 'content': p}\n",
    "\n",
    "    # Write the batch to the JSON file\n",
    "    with open('utusanborneo-270523.jsonl', 'a') as f:\n",
    "        json.dump(data, f)\n",
    "        f.write('\\n')"
   ]
  }
 ],
 "metadata": {
  "kernelspec": {
   "display_name": "Python 3",
   "language": "python",
   "name": "python3"
  },
  "language_info": {
   "codemirror_mode": {
    "name": "ipython",
    "version": 3
   },
   "file_extension": ".py",
   "mimetype": "text/x-python",
   "name": "python",
   "nbconvert_exporter": "python",
   "pygments_lexer": "ipython3",
   "version": "3.11.3"
  },
  "orig_nbformat": 4
 },
 "nbformat": 4,
 "nbformat_minor": 2
}
