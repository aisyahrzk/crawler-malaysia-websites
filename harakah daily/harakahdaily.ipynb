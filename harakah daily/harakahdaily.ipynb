{
 "cells": [
  {
   "cell_type": "code",
   "execution_count": 2,
   "metadata": {},
   "outputs": [],
   "source": [
    "from bs4 import BeautifulSoup\n",
    "import pandas as pd\n",
    "import json\n",
    "import requests\n",
    "from urllib.request import urlopen\n",
    "from datetime import datetime\n",
    "from tqdm import tqdm\n",
    "import time"
   ]
  },
  {
   "cell_type": "code",
   "execution_count": 2,
   "metadata": {},
   "outputs": [],
   "source": [
    "#harakah daily article from 2017 - todays date 21.5.2023\n",
    "start_date = '2017/01/01'\n",
    "today = datetime.now()\n",
    "dateRange = pd.date_range(start_date,today).strftime(\"%Y/%m/%d\")"
   ]
  },
  {
   "cell_type": "code",
   "execution_count": 6,
   "metadata": {},
   "outputs": [
    {
     "name": "stderr",
     "output_type": "stream",
     "text": [
      "  2%|▏         | 35/2333 [00:15<12:20,  3.10it/s]"
     ]
    }
   ],
   "source": [
    "hrefs = []\n",
    "for i in tqdm(dateRange):\n",
    "\n",
    "    x = 1\n",
    "\n",
    "    while True:\n",
    "\n",
    "        while True:\n",
    "            try:\n",
    "                r = requests.get(f'https://harakahdaily.net/index.php/{i}/page/{x}')\n",
    "                break\n",
    "            except:\n",
    "                time.sleep(1.0)\n",
    "        \n",
    "\n",
    "        soup = BeautifulSoup(r.text, \"lxml\")\n",
    "\n",
    "        div = soup.find_all('h1', attrs = {\"class\":\"entry-title td-page-title\"})\n",
    "\n",
    "        if len(div) == 0:\n",
    "            break\n",
    "\n",
    "        for link in soup.find_all('div', attrs = {\"class\":\"td_module_10 td_module_wrap td-animation-stack\"}):\n",
    "            \n",
    "            category = link.find('a', class_='td-post-category')\n",
    "\n",
    "            if category and category.text.strip().lower() != 'english':\n",
    "                href = link.find('a', class_='td-image-wrap').get('href')\n",
    "                hrefs.append(href)\n",
    "                    \n",
    "        \n",
    "        x = x + 1\n",
    "\n",
    "\n"
   ]
  },
  {
   "cell_type": "code",
   "execution_count": 6,
   "metadata": {},
   "outputs": [],
   "source": [
    "with open('article-links-harakah.json') as fopen:\n",
    "    hrefs = json.load(fopen)"
   ]
  },
  {
   "cell_type": "code",
   "execution_count": 7,
   "metadata": {},
   "outputs": [
    {
     "data": {
      "text/plain": [
       "45667"
      ]
     },
     "execution_count": 7,
     "metadata": {},
     "output_type": "execute_result"
    }
   ],
   "source": [
    "len(hrefs)"
   ]
  },
  {
   "cell_type": "code",
   "execution_count": 8,
   "metadata": {},
   "outputs": [
    {
     "name": "stderr",
     "output_type": "stream",
     "text": [
      " 11%|█         | 4910/45667 [34:53<4:12:36,  2.69it/s] "
     ]
    },
    {
     "name": "stdout",
     "output_type": "stream",
     "text": [
      "'NoneType' object has no attribute 'text'\n"
     ]
    },
    {
     "name": "stderr",
     "output_type": "stream",
     "text": [
      " 11%|█         | 5076/45667 [36:11<4:33:05,  2.48it/s] "
     ]
    },
    {
     "name": "stdout",
     "output_type": "stream",
     "text": [
      "HTTPSConnectionPool(host='harakahdaily.net', port=443): Max retries exceeded with url: /index.php/2018/03/13/roboh-pasar-pasir-puteh-tidak-patuhi-undang-undang/ (Caused by ConnectTimeoutError(<urllib3.connection.HTTPSConnection object at 0x000001FC012E41D0>, 'Connection to harakahdaily.net timed out. (connect timeout=None)'))\n"
     ]
    },
    {
     "name": "stderr",
     "output_type": "stream",
     "text": [
      " 11%|█▏        | 5205/45667 [37:31<4:45:01,  2.37it/s] "
     ]
    },
    {
     "name": "stdout",
     "output_type": "stream",
     "text": [
      "HTTPSConnectionPool(host='harakahdaily.net', port=443): Read timed out. (read timeout=None)\n"
     ]
    },
    {
     "name": "stderr",
     "output_type": "stream",
     "text": [
      " 11%|█▏        | 5234/45667 [38:11<4:49:42,  2.33it/s] "
     ]
    },
    {
     "name": "stdout",
     "output_type": "stream",
     "text": [
      "HTTPSConnectionPool(host='harakahdaily.net', port=443): Max retries exceeded with url: /index.php/2018/03/24/motif-projek-kayakan-kroni-kapitalisme/ (Caused by ConnectTimeoutError(<urllib3.connection.HTTPSConnection object at 0x000001FC0067FB90>, 'Connection to harakahdaily.net timed out. (connect timeout=None)'))\n"
     ]
    },
    {
     "name": "stderr",
     "output_type": "stream",
     "text": [
      " 14%|█▍        | 6389/45667 [47:04<4:24:56,  2.47it/s] "
     ]
    },
    {
     "name": "stdout",
     "output_type": "stream",
     "text": [
      "HTTPSConnectionPool(host='harakahdaily.net', port=443): Max retries exceeded with url: /index.php/2018/06/18/petunjuk-al-quran-bukti-taqwa/ (Caused by ConnectTimeoutError(<urllib3.connection.HTTPSConnection object at 0x000001FC01267650>, 'Connection to harakahdaily.net timed out. (connect timeout=None)'))\n"
     ]
    },
    {
     "name": "stderr",
     "output_type": "stream",
     "text": [
      " 26%|██▋       | 12021/45667 [1:35:40<4:53:14,  1.91it/s] "
     ]
    },
    {
     "name": "stdout",
     "output_type": "stream",
     "text": [
      "HTTPSConnectionPool(host='harakahdaily.net', port=443): Max retries exceeded with url: /index.php/2019/08/25/obses-dr-p-ramasamy-kepada-dr-zakir-naik/ (Caused by ConnectTimeoutError(<urllib3.connection.HTTPSConnection object at 0x000001FC01D9DF50>, 'Connection to harakahdaily.net timed out. (connect timeout=None)'))\n"
     ]
    },
    {
     "name": "stderr",
     "output_type": "stream",
     "text": [
      " 26%|██▋       | 12078/45667 [1:36:37<5:27:07,  1.71it/s] "
     ]
    },
    {
     "name": "stdout",
     "output_type": "stream",
     "text": [
      "HTTPSConnectionPool(host='harakahdaily.net', port=443): Max retries exceeded with url: /index.php/2019/08/28/muslimat-pas-wanita-umno-bangi-usrah-bersama/ (Caused by ConnectTimeoutError(<urllib3.connection.HTTPSConnection object at 0x000001FC01AF92D0>, 'Connection to harakahdaily.net timed out. (connect timeout=None)'))\n"
     ]
    },
    {
     "name": "stderr",
     "output_type": "stream",
     "text": [
      " 29%|██▉       | 13422/45667 [1:49:27<3:13:09,  2.78it/s] "
     ]
    },
    {
     "name": "stdout",
     "output_type": "stream",
     "text": [
      "HTTPSConnectionPool(host='harakahdaily.net', port=443): Max retries exceeded with url: /index.php/2019/11/04/hari-keluarga-pasti-alor-gajah-meriah/ (Caused by ConnectTimeoutError(<urllib3.connection.HTTPSConnection object at 0x000001FC015ED5D0>, 'Connection to harakahdaily.net timed out. (connect timeout=None)'))\n"
     ]
    },
    {
     "name": "stderr",
     "output_type": "stream",
     "text": [
      " 46%|████▌     | 20811/45667 [2:51:32<2:54:25,  2.37it/s] "
     ]
    },
    {
     "name": "stdout",
     "output_type": "stream",
     "text": [
      "HTTPSConnectionPool(host='harakahdaily.net', port=443): Max retries exceeded with url: /index.php/2020/10/21/agenda-kebajikan-serap-aktiviti-rohani/ (Caused by ConnectTimeoutError(<urllib3.connection.HTTPSConnection object at 0x000001FC012F7E90>, 'Connection to harakahdaily.net timed out. (connect timeout=None)'))\n"
     ]
    },
    {
     "name": "stderr",
     "output_type": "stream",
     "text": [
      " 55%|█████▍    | 24930/45667 [3:25:40<3:01:27,  1.90it/s] "
     ]
    },
    {
     "name": "stdout",
     "output_type": "stream",
     "text": [
      "HTTPSConnectionPool(host='harakahdaily.net', port=443): Max retries exceeded with url: /index.php/2021/04/01/550-sukarelawan-bantu-program-imunisasi-covid-19/ (Caused by ConnectTimeoutError(<urllib3.connection.HTTPSConnection object at 0x000001FC016710D0>, 'Connection to harakahdaily.net timed out. (connect timeout=None)'))\n"
     ]
    },
    {
     "name": "stderr",
     "output_type": "stream",
     "text": [
      " 56%|█████▋    | 25757/45667 [3:32:36<2:21:48,  2.34it/s] "
     ]
    },
    {
     "name": "stdout",
     "output_type": "stream",
     "text": [
      "HTTPSConnectionPool(host='harakahdaily.net', port=443): Max retries exceeded with url: /index.php/2021/05/01/pembudayaan-normal-baharu-dunia-pekerjaan-sejagat/ (Caused by ConnectTimeoutError(<urllib3.connection.HTTPSConnection object at 0x000001FC0130AE90>, 'Connection to harakahdaily.net timed out. (connect timeout=None)'))\n"
     ]
    },
    {
     "name": "stderr",
     "output_type": "stream",
     "text": [
      " 58%|█████▊    | 26483/45667 [3:39:01<2:39:54,  2.00it/s] "
     ]
    },
    {
     "name": "stdout",
     "output_type": "stream",
     "text": [
      "HTTPSConnectionPool(host='harakahdaily.net', port=443): Max retries exceeded with url: /index.php/2021/05/24/seawal-7-30-pagi-penerima-vaksin-telah-menunggu/ (Caused by ConnectTimeoutError(<urllib3.connection.HTTPSConnection object at 0x000001FC01E8B550>, 'Connection to harakahdaily.net timed out. (connect timeout=None)'))\n"
     ]
    },
    {
     "name": "stderr",
     "output_type": "stream",
     "text": [
      " 60%|█████▉    | 27288/45667 [3:45:56<2:36:15,  1.96it/s] "
     ]
    },
    {
     "name": "stdout",
     "output_type": "stream",
     "text": [
      "HTTPSConnectionPool(host='harakahdaily.net', port=443): Max retries exceeded with url: /index.php/2021/06/15/aid4palestin-pas-kedah-kumpul-rm445000-fasa-kedua/ (Caused by ConnectTimeoutError(<urllib3.connection.HTTPSConnection object at 0x000001FC01B7D7D0>, 'Connection to harakahdaily.net timed out. (connect timeout=None)'))\n"
     ]
    },
    {
     "name": "stderr",
     "output_type": "stream",
     "text": [
      " 60%|█████▉    | 27323/45667 [3:46:40<2:22:19,  2.15it/s] "
     ]
    },
    {
     "name": "stdout",
     "output_type": "stream",
     "text": [
      "HTTPSConnectionPool(host='harakahdaily.net', port=443): Read timed out. (read timeout=None)\n"
     ]
    },
    {
     "name": "stderr",
     "output_type": "stream",
     "text": [
      " 62%|██████▏   | 28483/45667 [3:56:54<2:18:22,  2.07it/s] "
     ]
    },
    {
     "name": "stdout",
     "output_type": "stream",
     "text": [
      "HTTPSConnectionPool(host='harakahdaily.net', port=443): Max retries exceeded with url: /index.php/2021/07/23/kedah-terima-vaksin-dalam-kuantiti-besar-minggu-depan/ (Caused by ConnectTimeoutError(<urllib3.connection.HTTPSConnection object at 0x000001FC00EBD7D0>, 'Connection to harakahdaily.net timed out. (connect timeout=None)'))\n"
     ]
    },
    {
     "name": "stderr",
     "output_type": "stream",
     "text": [
      " 66%|██████▌   | 30200/45667 [4:12:43<2:27:14,  1.75it/s] "
     ]
    },
    {
     "name": "stdout",
     "output_type": "stream",
     "text": [
      "HTTPSConnectionPool(host='harakahdaily.net', port=443): Max retries exceeded with url: /index.php/2021/09/09/jalan-yang-satu/ (Caused by ConnectTimeoutError(<urllib3.connection.HTTPSConnection object at 0x000001FC01841290>, 'Connection to harakahdaily.net timed out. (connect timeout=None)'))\n"
     ]
    },
    {
     "name": "stderr",
     "output_type": "stream",
     "text": [
      " 67%|██████▋   | 30661/45667 [4:16:51<2:03:05,  2.03it/s] "
     ]
    },
    {
     "name": "stdout",
     "output_type": "stream",
     "text": [
      "HTTPSConnectionPool(host='harakahdaily.net', port=443): Max retries exceeded with url: /index.php/2021/09/23/siti-zailah-ziarah-pengarang-harakahdaily/ (Caused by ConnectTimeoutError(<urllib3.connection.HTTPSConnection object at 0x000001FC01CBD810>, 'Connection to harakahdaily.net timed out. (connect timeout=None)'))\n"
     ]
    },
    {
     "name": "stderr",
     "output_type": "stream",
     "text": [
      " 67%|██████▋   | 30677/45667 [4:17:33<6:27:22,  1.55s/it] "
     ]
    },
    {
     "name": "stdout",
     "output_type": "stream",
     "text": [
      "HTTPSConnectionPool(host='harakahdaily.net', port=443): Read timed out. (read timeout=None)\n"
     ]
    },
    {
     "name": "stderr",
     "output_type": "stream",
     "text": [
      " 72%|███████▏  | 32661/45667 [4:34:22<1:51:47,  1.94it/s] "
     ]
    },
    {
     "name": "stdout",
     "output_type": "stream",
     "text": [
      "HTTPSConnectionPool(host='harakahdaily.net', port=443): Max retries exceeded with url: /index.php/2021/11/24/komitmen-di-cop26-mesti-disusuli-tindakan-konkrit/ (Caused by ConnectTimeoutError(<urllib3.connection.HTTPSConnection object at 0x000001FC00F5A5D0>, 'Connection to harakahdaily.net timed out. (connect timeout=None)'))\n"
     ]
    },
    {
     "name": "stderr",
     "output_type": "stream",
     "text": [
      " 85%|████████▍ | 38687/45667 [5:22:37<1:02:27,  1.86it/s] "
     ]
    },
    {
     "name": "stdout",
     "output_type": "stream",
     "text": [
      "HTTPSConnectionPool(host='harakahdaily.net', port=443): Max retries exceeded with url: /index.php/2022/08/23/pemuda-pas-perlis-tolak-budaya-hiburan-melampau/ (Caused by ConnectTimeoutError(<urllib3.connection.HTTPSConnection object at 0x000001FC01DB18D0>, 'Connection to harakahdaily.net timed out. (connect timeout=None)'))\n"
     ]
    },
    {
     "name": "stderr",
     "output_type": "stream",
     "text": [
      " 90%|████████▉ | 40921/45667 [5:40:51<38:08,  2.07it/s]   "
     ]
    },
    {
     "name": "stdout",
     "output_type": "stream",
     "text": [
      "HTTPSConnectionPool(host='harakahdaily.net', port=443): Max retries exceeded with url: /index.php/2022/11/14/cabaran-ada-di-mana-mana-tidak-kira-lawan-khairy/ (Caused by ConnectTimeoutError(<urllib3.connection.HTTPSConnection object at 0x000001FC018FA6D0>, 'Connection to harakahdaily.net timed out. (connect timeout=None)'))\n"
     ]
    },
    {
     "name": "stderr",
     "output_type": "stream",
     "text": [
      " 95%|█████████▌| 43476/45667 [6:01:09<13:08,  2.78it/s]   "
     ]
    },
    {
     "name": "stdout",
     "output_type": "stream",
     "text": [
      "HTTPSConnectionPool(host='harakahdaily.net', port=443): Max retries exceeded with url: /index.php/2023/02/27/ph-bn-dinasihat-supaya-hormati-semangat-federalisme/ (Caused by ConnectTimeoutError(<urllib3.connection.HTTPSConnection object at 0x000001FC0154B450>, 'Connection to harakahdaily.net timed out. (connect timeout=None)'))\n"
     ]
    },
    {
     "name": "stderr",
     "output_type": "stream",
     "text": [
      " 95%|█████████▌| 43607/45667 [6:02:37<17:02,  2.01it/s]  "
     ]
    },
    {
     "name": "stdout",
     "output_type": "stream",
     "text": [
      "HTTPSConnectionPool(host='harakahdaily.net', port=443): Read timed out. (read timeout=None)\n"
     ]
    },
    {
     "name": "stderr",
     "output_type": "stream",
     "text": [
      " 96%|█████████▌| 43629/45667 [6:03:10<14:02,  2.42it/s]  "
     ]
    },
    {
     "name": "stdout",
     "output_type": "stream",
     "text": [
      "HTTPSConnectionPool(host='harakahdaily.net', port=443): Max retries exceeded with url: /index.php/2023/03/02/laksanakan-model-gaji-progresif-di-malaysia/ (Caused by ConnectTimeoutError(<urllib3.connection.HTTPSConnection object at 0x000001FC01DD0810>, 'Connection to harakahdaily.net timed out. (connect timeout=None)'))\n"
     ]
    },
    {
     "name": "stderr",
     "output_type": "stream",
     "text": [
      " 97%|█████████▋| 44321/45667 [6:09:30<09:42,  2.31it/s]  "
     ]
    },
    {
     "name": "stdout",
     "output_type": "stream",
     "text": [
      "HTTPSConnectionPool(host='harakahdaily.net', port=443): Max retries exceeded with url: /index.php/2023/03/22/tun-m-bidas-ph-dalam-tiga-isu/ (Caused by ConnectTimeoutError(<urllib3.connection.HTTPSConnection object at 0x000001FC01046550>, 'Connection to harakahdaily.net timed out. (connect timeout=None)'))\n"
     ]
    },
    {
     "name": "stderr",
     "output_type": "stream",
     "text": [
      "100%|██████████| 45667/45667 [6:21:07<00:00,  2.00it/s]  \n"
     ]
    },
    {
     "ename": "",
     "evalue": "",
     "output_type": "error",
     "traceback": [
      "\u001b[1;31mThe Kernel crashed while executing code in the the current cell or a previous cell. Please review the code in the cell(s) to identify a possible cause of the failure. Click <a href='https://aka.ms/vscodeJupyterKernelCrash'>here</a> for more info. View Jupyter <a href='command:jupyter.viewOutput'>log</a> for further details."
     ]
    }
   ],
   "source": [
    "import requests\n",
    "import time\n",
    "from tqdm import tqdm\n",
    "from bs4 import BeautifulSoup\n",
    "import json\n",
    "\n",
    "data = []\n",
    "batch_size = 64\n",
    "\n",
    "for x in tqdm(hrefs):\n",
    "\n",
    "    while True:\n",
    "        try:\n",
    "\n",
    "            r = requests.get(x)\n",
    "            \n",
    "            break\n",
    "\n",
    "        except Exception as e:\n",
    "            print(e)\n",
    "            time.sleep(5.0)\n",
    "\n",
    "        \n",
    "    soup = BeautifulSoup(r.text, \"lxml\")\n",
    "\n",
    "    try:\n",
    "        h = soup.find('h1', class_=\"entry-title\")\n",
    "        title = h.text\n",
    "    except Exception as e:\n",
    "        print(e)\n",
    "        continue\n",
    "\n",
    "\n",
    "\n",
    "    p = [p.text for p in soup.find_all(\"p\") if len(p.text.split()) > 20]\n",
    "\n",
    "    if len(p) == 0:\n",
    "            h = soup.find('div', class_=\"td-post-content tagdiv-type\")\n",
    "            p = [p.text for p in h.find_all('div') if len(p.text.split()) > 20 and p.get('class') == None]\n",
    "\n",
    "\n",
    "    data = {'url': x, 'headline': title, 'content': p}\n",
    "\n",
    "\n",
    "\n",
    "    # Write the batch to the JSON file\n",
    "    with open('article-harakah.jsonl', 'a') as f:\n",
    "        json.dump(data, f)\n",
    "        f.write('\\n')\n",
    "\n",
    "\n"
   ]
  },
  {
   "cell_type": "code",
   "execution_count": 1,
   "metadata": {},
   "outputs": [],
   "source": [
    "import langid"
   ]
  },
  {
   "cell_type": "code",
   "execution_count": 14,
   "metadata": {},
   "outputs": [
    {
     "name": "stderr",
     "output_type": "stream",
     "text": [
      "C:\\Users\\User\\AppData\\Local\\Temp\\ipykernel_3476\\1062229075.py:23: DeprecationWarning: invalid escape sequence '\\I'\n",
      "  decoded_string = codecs.escape_decode(string)[0].decode('utf-8')\n",
      "C:\\Users\\User\\AppData\\Local\\Temp\\ipykernel_3476\\1062229075.py:23: DeprecationWarning: invalid escape sequence '\\?'\n",
      "  decoded_string = codecs.escape_decode(string)[0].decode('utf-8')\n",
      "C:\\Users\\User\\AppData\\Local\\Temp\\ipykernel_3476\\1062229075.py:23: DeprecationWarning: invalid escape sequence '\\Y'\n",
      "  decoded_string = codecs.escape_decode(string)[0].decode('utf-8')\n",
      "C:\\Users\\User\\AppData\\Local\\Temp\\ipykernel_3476\\1062229075.py:23: DeprecationWarning: invalid escape sequence '\\â'\n",
      "  decoded_string = codecs.escape_decode(string)[0].decode('utf-8')\n"
     ]
    },
    {
     "ename": "",
     "evalue": "",
     "output_type": "error",
     "traceback": [
      "\u001b[1;31mThe Kernel crashed while executing code in the the current cell or a previous cell. Please review the code in the cell(s) to identify a possible cause of the failure. Click <a href='https://aka.ms/vscodeJupyterKernelCrash'>here</a> for more info. View Jupyter <a href='command:jupyter.viewOutput'>log</a> for further details."
     ]
    }
   ],
   "source": [
    "import jsonlines\n",
    "import ast\n",
    "import codecs\n",
    "\n",
    "# Specify the input and output file paths\n",
    "input_file = \"D:/Aisyah/eleuther-ai ASEAN/harakah daily/article-harakah.jsonl\"\n",
    "output_file = \"D:/Aisyah/eleuther-ai ASEAN/harakah daily/article-harakah-cleaned.jsonl\"\n",
    "\n",
    "langid.set_languages(['ms', 'en'])  #ISO 639-1 codes\n",
    "\n",
    "# Open the input and output files\n",
    "with jsonlines.open(input_file) as reader, jsonlines.open(output_file, mode='w') as writer:\n",
    "    # Iterate over each line in the input file\n",
    "    for line in reader:\n",
    "        # Check if the content field is empty ([] or {})\n",
    "        if line['content']:\n",
    "            # Write the non-empty line to the output file\n",
    "            decoded_list = []\n",
    "            for string in line['content']:\n",
    "                try:\n",
    "                    decoded_string = codecs.escape_decode(string)[0].decode('utf-8')\n",
    "                except ValueError:\n",
    "                    decoded_string = string\n",
    "                decoded_list.append(decoded_string)\n",
    "            line['content'] = decoded_list\n",
    "\n",
    "            writer.write(line)\n",
    "\n",
    "          "
   ]
  }
 ],
 "metadata": {
  "kernelspec": {
   "display_name": "Python 3",
   "language": "python",
   "name": "python3"
  },
  "language_info": {
   "codemirror_mode": {
    "name": "ipython",
    "version": 3
   },
   "file_extension": ".py",
   "mimetype": "text/x-python",
   "name": "python",
   "nbconvert_exporter": "python",
   "pygments_lexer": "ipython3",
   "version": "3.11.3"
  },
  "orig_nbformat": 4
 },
 "nbformat": 4,
 "nbformat_minor": 2
}
