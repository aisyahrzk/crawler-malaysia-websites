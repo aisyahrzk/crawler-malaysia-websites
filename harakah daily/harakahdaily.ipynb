{
 "cells": [
  {
   "cell_type": "code",
   "execution_count": 2,
   "metadata": {},
   "outputs": [],
   "source": [
    "from bs4 import BeautifulSoup\n",
    "import pandas as pd\n",
    "import json\n",
    "import requests\n",
    "from urllib.request import urlopen\n",
    "from datetime import datetime\n",
    "from tqdm import tqdm\n",
    "import time"
   ]
  },
  {
   "cell_type": "code",
   "execution_count": 2,
   "metadata": {},
   "outputs": [],
   "source": [
    "#harakah daily article from 2017 - todays date 21.5.2023\n",
    "start_date = '2017/01/01'\n",
    "today = datetime.now()\n",
    "dateRange = pd.date_range(start_date,today).strftime(\"%Y/%m/%d\")"
   ]
  },
  {
   "cell_type": "code",
   "execution_count": 6,
   "metadata": {},
   "outputs": [
    {
     "name": "stderr",
     "output_type": "stream",
     "text": [
      "  2%|▏         | 35/2333 [00:15<12:20,  3.10it/s]"
     ]
    }
   ],
   "source": [
    "hrefs = []\n",
    "for i in tqdm(dateRange):\n",
    "\n",
    "    x = 1\n",
    "\n",
    "    while True:\n",
    "\n",
    "        while True:\n",
    "            try:\n",
    "                r = requests.get(f'https://harakahdaily.net/index.php/{i}/page/{x}')\n",
    "                break\n",
    "            except:\n",
    "                time.sleep(1.0)\n",
    "        \n",
    "\n",
    "        soup = BeautifulSoup(r.text, \"lxml\")\n",
    "\n",
    "        div = soup.find_all('h1', attrs = {\"class\":\"entry-title td-page-title\"})\n",
    "\n",
    "        if len(div) == 0:\n",
    "            break\n",
    "\n",
    "        for link in soup.find_all('div', attrs = {\"class\":\"td_module_10 td_module_wrap td-animation-stack\"}):\n",
    "            \n",
    "            category = link.find('a', class_='td-post-category')\n",
    "\n",
    "            if category and category.text.strip().lower() != 'english':\n",
    "                href = link.find('a', class_='td-image-wrap').get('href')\n",
    "                hrefs.append(href)\n",
    "                    \n",
    "        \n",
    "        x = x + 1\n",
    "\n",
    "\n"
   ]
  },
  {
   "cell_type": "code",
   "execution_count": 6,
   "metadata": {},
   "outputs": [],
   "source": [
    "with open('article-links-harakah.json') as fopen:\n",
    "    hrefs = json.load(fopen)"
   ]
  },
  {
   "cell_type": "code",
   "execution_count": 7,
   "metadata": {},
   "outputs": [
    {
     "data": {
      "text/plain": [
       "45667"
      ]
     },
     "execution_count": 7,
     "metadata": {},
     "output_type": "execute_result"
    }
   ],
   "source": [
    "len(hrefs)"
   ]
  },
  {
   "cell_type": "code",
   "execution_count": 8,
   "metadata": {},
   "outputs": [
    {
     "name": "stderr",
     "output_type": "stream",
     "text": [
      " 11%|█         | 4910/45667 [34:53<4:12:36,  2.69it/s] "
     ]
    },
    {
     "name": "stdout",
     "output_type": "stream",
     "text": [
      "'NoneType' object has no attribute 'text'\n"
     ]
    },
    {
     "name": "stderr",
     "output_type": "stream",
     "text": [
      " 11%|█         | 5076/45667 [36:11<4:33:05,  2.48it/s] "
     ]
    },
    {
     "name": "stdout",
     "output_type": "stream",
     "text": [
      "HTTPSConnectionPool(host='harakahdaily.net', port=443): Max retries exceeded with url: /index.php/2018/03/13/roboh-pasar-pasir-puteh-tidak-patuhi-undang-undang/ (Caused by ConnectTimeoutError(<urllib3.connection.HTTPSConnection object at 0x000001FC012E41D0>, 'Connection to harakahdaily.net timed out. (connect timeout=None)'))\n"
     ]
    },
    {
     "name": "stderr",
     "output_type": "stream",
     "text": [
      " 11%|█▏        | 5205/45667 [37:31<4:45:01,  2.37it/s] "
     ]
    },
    {
     "name": "stdout",
     "output_type": "stream",
     "text": [
      "HTTPSConnectionPool(host='harakahdaily.net', port=443): Read timed out. (read timeout=None)\n"
     ]
    },
    {
     "name": "stderr",
     "output_type": "stream",
     "text": [
      " 11%|█▏        | 5234/45667 [38:11<4:49:42,  2.33it/s] "
     ]
    },
    {
     "name": "stdout",
     "output_type": "stream",
     "text": [
      "HTTPSConnectionPool(host='harakahdaily.net', port=443): Max retries exceeded with url: /index.php/2018/03/24/motif-projek-kayakan-kroni-kapitalisme/ (Caused by ConnectTimeoutError(<urllib3.connection.HTTPSConnection object at 0x000001FC0067FB90>, 'Connection to harakahdaily.net timed out. (connect timeout=None)'))\n"
     ]
    },
    {
     "name": "stderr",
     "output_type": "stream",
     "text": [
      " 14%|█▎        | 6257/45667 [46:09<4:09:40,  2.63it/s] "
     ]
    }
   ],
   "source": [
    "import requests\n",
    "import time\n",
    "from tqdm import tqdm\n",
    "from bs4 import BeautifulSoup\n",
    "import json\n",
    "\n",
    "data = []\n",
    "batch_size = 64\n",
    "\n",
    "for x in tqdm(hrefs):\n",
    "\n",
    "    while True:\n",
    "        try:\n",
    "\n",
    "            r = requests.get(x)\n",
    "            \n",
    "            break\n",
    "\n",
    "        except Exception as e:\n",
    "            print(e)\n",
    "            time.sleep(5.0)\n",
    "\n",
    "        \n",
    "    soup = BeautifulSoup(r.text, \"lxml\")\n",
    "\n",
    "    try:\n",
    "        h = soup.find('h1', class_=\"entry-title\")\n",
    "        title = h.text\n",
    "    except Exception as e:\n",
    "        print(e)\n",
    "        continue\n",
    "\n",
    "\n",
    "\n",
    "    p = [p.text for p in soup.find_all(\"p\") if len(p.text.split()) > 20]\n",
    "\n",
    "    if len(p) == 0:\n",
    "            h = soup.find('div', class_=\"td-post-content tagdiv-type\")\n",
    "            p = [p.text for p in h.find_all('div') if len(p.text.split()) > 20 and p.get('class') == None]\n",
    "\n",
    "\n",
    "    data = {'url': x, 'headline': title, 'content': p}\n",
    "\n",
    "\n",
    "\n",
    "    # Write the batch to the JSON file\n",
    "    with open('article-harakah.jsonl', 'a') as f:\n",
    "        json.dump(data, f)\n",
    "        f.write('\\n')\n",
    "\n",
    "\n"
   ]
  }
 ],
 "metadata": {
  "kernelspec": {
   "display_name": "Python 3",
   "language": "python",
   "name": "python3"
  },
  "language_info": {
   "codemirror_mode": {
    "name": "ipython",
    "version": 3
   },
   "file_extension": ".py",
   "mimetype": "text/x-python",
   "name": "python",
   "nbconvert_exporter": "python",
   "pygments_lexer": "ipython3",
   "version": "3.11.3"
  },
  "orig_nbformat": 4
 },
 "nbformat": 4,
 "nbformat_minor": 2
}
