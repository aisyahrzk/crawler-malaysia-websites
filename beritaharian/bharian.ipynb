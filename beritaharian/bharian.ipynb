{
 "cells": [
  {
   "cell_type": "code",
   "execution_count": 11,
   "metadata": {},
   "outputs": [],
   "source": [
    "from bs4 import BeautifulSoup\n",
    "import pandas as pd\n",
    "import json\n",
    "import requests\n",
    "from urllib.request import urlopen\n",
    "from datetime import datetime\n",
    "from tqdm import tqdm\n",
    "import time\n",
    "from selenium import webdriver\n",
    "from selenium.webdriver.support.ui import WebDriverWait\n",
    "from selenium.webdriver.support import expected_conditions as EC\n",
    "from selenium.webdriver.common.by import By"
   ]
  },
  {
   "cell_type": "code",
   "execution_count": 12,
   "metadata": {},
   "outputs": [],
   "source": [
    "links = [\n",
    "\"https://www.utusan.com.my/category/nasional/jenayah\",\n",
    "\"https://www.utusan.com.my/category/nasional/komuniti/\",\n",
    "\"https://www.utusan.com.my/category/nasional/mahkamah/\",\n",
    "\"https://www.utusan.com.my/category/nasional/politik/\",\n",
    "\"https://www.utusan.com.my/category/nasional/tragedi/\",\n",
    "\"https://www.utusan.com.my/category/ringgit/hartanah/\",\n",
    "\"https://www.utusan.com.my/category/ekonomi/kewangan/\",\n",
    "\"https://www.utusan.com.my/category/ekonomi/korporat/\",\n",
    "\"https://www.utusan.com.my/category/ekonomi/produk/\",\n",
    "\"https://www.utusan.com.my/category/ekonomi/usahawan/\"\n",
    "]"
   ]
  },
  {
   "cell_type": "code",
   "execution_count": 33,
   "metadata": {},
   "outputs": [
    {
     "name": "stderr",
     "output_type": "stream",
     "text": [
      "C:\\Users\\User\\AppData\\Local\\Temp\\ipykernel_23404\\4278467907.py:4: DeprecationWarning: executable_path has been deprecated, please pass in a Service object\n",
      "  driver = webdriver.Chrome(executable_path=r'D:\\Aisyah\\chromedriver.exe')\n",
      "  0%|          | 0/16 [00:00<?, ?it/s]"
     ]
    }
   ],
   "source": [
    "hrefs = []\n",
    "batch_size = 64\n",
    "\n",
    "driver = webdriver.Chrome(executable_path=r'D:\\Aisyah\\chromedriver.exe')\n",
    "\n",
    "for i in tqdm(links): \n",
    "\n",
    "    x = 0\n",
    "\n",
    "    while True:\n",
    "\n",
    "        while True:\n",
    "            try:\n",
    "\n",
    "                driver.get(f'{i}?page={x}')\n",
    "                # Wait for the page to load completely\n",
    "                wait = WebDriverWait(driver, 20)\n",
    "                wait.until(EC.presence_of_element_located((By.CLASS_NAME, \"article-teaser\")))\n",
    "                page = driver.page_source\n",
    "                \n",
    "                break\n",
    "            except Exception as e:\n",
    "                time.sleep(2.0)\n",
    "                print(e)\n",
    "        \n",
    "\n",
    "        soup = BeautifulSoup(page, \"html.parser\")\n",
    "\n",
    "        div = soup.find_all('div', attrs = {\"class\":\"article-teaser\"})\n",
    "\n",
    "        if len(div) == 0:\n",
    "            break\n",
    "\n",
    "        for link in soup.find_all('a', class_=[\"d-flex\", \"article\", \"listing\", \"mb-3\", \"pb-3\"]):\n",
    "            \n",
    "            # # Find the <a> tag within the <div> with class \"article-teaser\"\n",
    "            # a_tag = link.find('a', class_=[\"d-flex\", \"article\", \"listing\", \"mb-3\", \"pb-3\"])\n",
    "\n",
    "            # print(link)\n",
    "\n",
    "            # Extract the value of the href attribute\n",
    "            href = link['href']\n",
    "\n",
    "            # if category and category.text.strip().lower() != 'english':\n",
    "            #     href = link.find('a', class_='td-image-wrap').get('href')\n",
    "            hrefs.append(href)\n",
    "\n",
    "                    # Check if the batch size is reached\n",
    "            if len(hrefs) >= batch_size:\n",
    "                # Write the batch to the JSON file\n",
    "                with open('bharian-link.json', 'a') as f:\n",
    "                    json.dump(hrefs, f)\n",
    "                    f.write('\\n')\n",
    "\n",
    "                # Clear the batch\n",
    "                hrefs = []\n",
    "                    \n",
    "        \n",
    "        x = x + 1\n",
    "\n",
    "# Write any remaining data to the JSON file\n",
    "if len(hrefs) > 0:\n",
    "    with open('bharian-link.json', 'a') as f:\n",
    "        json.dump(hrefs, f)\n",
    "        f.write('\\n')\n",
    "\n",
    "\n",
    "\n"
   ]
  }
 ],
 "metadata": {
  "kernelspec": {
   "display_name": "Python 3",
   "language": "python",
   "name": "python3"
  },
  "language_info": {
   "codemirror_mode": {
    "name": "ipython",
    "version": 3
   },
   "file_extension": ".py",
   "mimetype": "text/x-python",
   "name": "python",
   "nbconvert_exporter": "python",
   "pygments_lexer": "ipython3",
   "version": "3.11.3"
  },
  "orig_nbformat": 4
 },
 "nbformat": 4,
 "nbformat_minor": 2
}
