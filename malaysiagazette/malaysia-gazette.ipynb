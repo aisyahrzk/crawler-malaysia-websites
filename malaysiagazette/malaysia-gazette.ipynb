{
 "cells": [
  {
   "cell_type": "code",
   "execution_count": 1,
   "id": "7e56bb5a",
   "metadata": {},
   "outputs": [
    {
     "name": "stderr",
     "output_type": "stream",
     "text": [
      "/usr/lib/python3/dist-packages/requests/__init__.py:89: RequestsDependencyWarning: urllib3 (2.0.3) or chardet (3.0.4) doesn't match a supported version!\n",
      "  warnings.warn(\"urllib3 ({}) or chardet ({}) doesn't match a supported \"\n"
     ]
    }
   ],
   "source": [
    "from bs4 import BeautifulSoup\n",
    "import pandas as pd\n",
    "import json\n",
    "import requests\n",
    "from tqdm import tqdm\n",
    "import time\n",
    "from concurrent.futures import ThreadPoolExecutor, as_completed\n",
    "import numpy as np\n",
    "import os"
   ]
  },
  {
   "cell_type": "code",
   "execution_count": 2,
   "id": "df6a4d49",
   "metadata": {},
   "outputs": [],
   "source": [
    "links = [\n",
    "\"utama\",\n",
    "\"nasional\",\n",
    "\"politik-dup\",\n",
    "\"ekonomi\",\n",
    "\"dunia\",\n",
    "\"sukan\",\n",
    "\"akhbar-cina\",\n",
    "\"pendapat\",\n",
    "\"rencana\",\n",
    "\"analisis\"\n",
    "]\n",
    "\n",
    "headers = {'User-Agent': 'Mozilla/5.0 (Windows NT 6.1; WOW64) AppleWebKit/537.36 (KHTML, like Gecko) Chrome/56.0.2924.76 Safari/537.36'} "
   ]
  },
  {
   "cell_type": "code",
   "execution_count": 3,
   "id": "ad9984cd",
   "metadata": {},
   "outputs": [],
   "source": [
    "def crawl(url):\n",
    "    while True:\n",
    "        try:\n",
    "            r = requests.get(url,headers = headers)\n",
    "            break\n",
    "        except Exception as e:\n",
    "            print(e)\n",
    "            time.sleep(1.0)\n",
    "\n",
    "    soup = BeautifulSoup(r.text, \"lxml\")\n",
    "\n",
    "    block = soup.find('div',attrs = {\"class\":\"td-ss-main-content\"})\n",
    "    \n",
    "    if block is None:\n",
    "        return\n",
    "\n",
    "    for link in block.find_all('h3', attrs = {\"class\":\"entry-title td-module-title\"}):\n",
    "\n",
    "        href = link.find('a').get('href')\n",
    "\n",
    "        hrefs.append(href)\n",
    "    "
   ]
  },
  {
   "cell_type": "code",
   "execution_count": 4,
   "id": "6dfe66e9",
   "metadata": {},
   "outputs": [
    {
     "name": "stdout",
     "output_type": "stream",
     "text": [
      "politik-dup\n",
      "https://malaysiagazette.com/category/politik-dup\n"
     ]
    },
    {
     "name": "stderr",
     "output_type": "stream",
     "text": [
      "100%|█████████████████████████████████████████████████████████████████████████████████████████████████████████████████████████████████████████████████████████████████████████████████████| 203/203 [10:20<00:00,  3.06s/it]\n"
     ]
    },
    {
     "name": "stdout",
     "output_type": "stream",
     "text": [
      "ekonomi\n",
      "https://malaysiagazette.com/category/ekonomi\n"
     ]
    },
    {
     "name": "stderr",
     "output_type": "stream",
     "text": [
      "100%|█████████████████████████████████████████████████████████████████████████████████████████████████████████████████████████████████████████████████████████████████████████████████████| 132/132 [09:00<00:00,  4.10s/it]\n"
     ]
    },
    {
     "name": "stdout",
     "output_type": "stream",
     "text": [
      "dunia\n",
      "https://malaysiagazette.com/category/dunia\n"
     ]
    },
    {
     "name": "stderr",
     "output_type": "stream",
     "text": [
      "100%|█████████████████████████████████████████████████████████████████████████████████████████████████████████████████████████████████████████████████████████████████████████████████████| 108/108 [06:19<00:00,  3.51s/it]\n"
     ]
    },
    {
     "name": "stdout",
     "output_type": "stream",
     "text": [
      "sukan\n",
      "https://malaysiagazette.com/category/sukan\n"
     ]
    },
    {
     "name": "stderr",
     "output_type": "stream",
     "text": [
      "100%|███████████████████████████████████████████████████████████████████████████████████████████████████████████████████████████████████████████████████████████████████████████████████████| 94/94 [06:22<00:00,  4.07s/it]\n"
     ]
    },
    {
     "name": "stdout",
     "output_type": "stream",
     "text": [
      "akhbar-cina\n",
      "https://malaysiagazette.com/category/akhbar-cina\n"
     ]
    },
    {
     "name": "stderr",
     "output_type": "stream",
     "text": [
      "100%|███████████████████████████████████████████████████████████████████████████████████████████████████████████████████████████████████████████████████████████████████████████████████████| 13/13 [00:44<00:00,  3.41s/it]\n"
     ]
    },
    {
     "name": "stdout",
     "output_type": "stream",
     "text": [
      "pendapat\n",
      "https://malaysiagazette.com/category/pendapat\n"
     ]
    },
    {
     "name": "stderr",
     "output_type": "stream",
     "text": [
      "100%|███████████████████████████████████████████████████████████████████████████████████████████████████████████████████████████████████████████████████████████████████████████████████████| 23/23 [01:32<00:00,  4.03s/it]\n"
     ]
    },
    {
     "name": "stdout",
     "output_type": "stream",
     "text": [
      "rencana\n",
      "https://malaysiagazette.com/category/rencana\n"
     ]
    },
    {
     "name": "stderr",
     "output_type": "stream",
     "text": [
      "100%|█████████████████████████████████████████████████████████████████████████████████████████████████████████████████████████████████████████████████████████████████████████████████████████| 4/4 [00:16<00:00,  4.01s/it]\n"
     ]
    },
    {
     "name": "stdout",
     "output_type": "stream",
     "text": [
      "analisis\n",
      "https://malaysiagazette.com/category/analisis\n"
     ]
    },
    {
     "name": "stderr",
     "output_type": "stream",
     "text": [
      "100%|█████████████████████████████████████████████████████████████████████████████████████████████████████████████████████████████████████████████████████████████████████████████████████████| 2/2 [00:07<00:00,  3.57s/it]\n"
     ]
    },
    {
     "name": "stdout",
     "output_type": "stream",
     "text": [
      "pendapat\n",
      "https://malaysiagazette.com/category/pendapat\n"
     ]
    },
    {
     "name": "stderr",
     "output_type": "stream",
     "text": [
      "100%|███████████████████████████████████████████████████████████████████████████████████████████████████████████████████████████████████████████████████████████████████████████████████████| 23/23 [00:26<00:00,  1.14s/it]\n"
     ]
    },
    {
     "name": "stdout",
     "output_type": "stream",
     "text": [
      "rencana\n",
      "https://malaysiagazette.com/category/rencana\n"
     ]
    },
    {
     "name": "stderr",
     "output_type": "stream",
     "text": [
      "100%|█████████████████████████████████████████████████████████████████████████████████████████████████████████████████████████████████████████████████████████████████████████████████████████| 4/4 [00:04<00:00,  1.22s/it]\n"
     ]
    }
   ],
   "source": [
    "max_worker = 10\n",
    "\n",
    "\n",
    "for t in links:\n",
    "    \n",
    "    hrefs = []\n",
    "    print(t)\n",
    "    url = f'https://malaysiagazette.com/category/{t}'\n",
    "    print(url)\n",
    "    r = requests.get(url)\n",
    "    soup = BeautifulSoup(r.content, \"lxml\")\n",
    "    a = soup.find_all('a')\n",
    "    a = [a_.get('href') for a_ in a if a_.get('href')]\n",
    "    pgno = [a_ for a_ in a if 'page' in a_]\n",
    "    max_page = max([int(a_.split('page/')[1].replace('/','')) for a_ in pgno])\n",
    "    \n",
    "    for i in tqdm(range(1, max_page + 1, max_worker)):\n",
    "        aranged = np.arange(i, i + max_worker)\n",
    "        urls = [f'{url}/page/{a}' for a in aranged]\n",
    "        with ThreadPoolExecutor(max_workers=max_worker) as executor:\n",
    "            futures = {executor.submit(crawl, url): url for url in urls}\n",
    "        \n",
    "        for future in as_completed(futures):\n",
    "            future.result()\n",
    "    \n",
    "    hrefs = list(set(hrefs))\n",
    "    with open(f'malaysiagazette-{t}-link.json', 'a') as f:\n",
    "        json.dump(hrefs, f)\n",
    "    \n"
   ]
  },
  {
   "cell_type": "code",
   "execution_count": 3,
   "id": "459f4782",
   "metadata": {
    "scrolled": true
   },
   "outputs": [
    {
     "name": "stdout",
     "output_type": "stream",
     "text": [
      "utama\n",
      "nasional\n",
      "politik-dup\n",
      "ekonomi\n",
      "dunia\n",
      "sukan\n",
      "akhbar-cina\n",
      "pendapat\n",
      "rencana\n",
      "analisis\n"
     ]
    }
   ],
   "source": [
    "url = []\n",
    "\n",
    "for t in links:\n",
    "    print(t)\n",
    "    with open(f'malaysiagazette-{t}-link.json') as fopen:\n",
    "        href = json.load(fopen)\n",
    "    url.extend(href)"
   ]
  },
  {
   "cell_type": "code",
   "execution_count": 4,
   "id": "5a5f516b",
   "metadata": {},
   "outputs": [
    {
     "data": {
      "text/plain": [
       "131923"
      ]
     },
     "execution_count": 4,
     "metadata": {},
     "output_type": "execute_result"
    }
   ],
   "source": [
    "len(url)"
   ]
  },
  {
   "cell_type": "code",
   "execution_count": 10,
   "id": "4f26f5d0",
   "metadata": {},
   "outputs": [
    {
     "name": "stdout",
     "output_type": "stream",
     "text": [
      "error in link:https://malaysiagazette.com/2021/02/28/fdam-persoal-mengapa-mkn-masih-belum-beri-kelonggaran-kepada-industri-kreatif/\n",
      "'NoneType' object has no attribute 'text'\n",
      "error in link:https://malaysiagazette.com/2021/10/11/rakyat-perlu-tahu-kenapa-ph-tarik-balik-semakan-keputusan-pulau-batu-puteh/\n",
      "'NoneType' object has no attribute 'text'\n",
      "error in link:https://malaysiagazette.com/2021/05/30/agong-raja-permaisuri-ucap-selamat-menyambut-pesta-kaamatan/\n",
      "'NoneType' object has no attribute 'text'\n",
      "error in link:https://malaysiagazette.com/2022/09/26/manifesto-dap-lebih-pragmatik/\n",
      "'NoneType' object has no attribute 'text'\n",
      "error in link:https://malaysiagazette.com/2020/03/07/dua-parah-bas-bawa-rombongan-guru-terlibat-kemalangan/\n",
      "'NoneType' object has no attribute 'text'\n",
      "error in link:https://malaysiagazette.com/2020/04/26/persediaan-pelajar-penting-hadapi-norma-baharu/\n",
      "'NoneType' object has no attribute 'text'\n",
      "error in link:https://malaysiagazette.com/2019/05/06/harga-minyak-susut-2-2/\n",
      "'NoneType' object has no attribute 'text'\n",
      "error in link:https://malaysiagazette.com/2020/06/19/prk-chini-timbalan-ketua-bahagian-bersatu-pekan-jadi-calon-bebas/\n",
      "'NoneType' object has no attribute 'text'\n",
      "error in link:https://malaysiagazette.com/2018/11/23/fgv-saman-bekas-ceo-ahli-lembaga-pengarah-berhubung-transaksi-apl/\n",
      "'NoneType' object has no attribute 'text'\n",
      "error in link:https://malaysiagazette.com/2023/06/14/tuntutan-sulu-kerajaan-tidak-berkompromi-jika-ada-rakyat-malaysia-sabotaj-negara/\n",
      "'NoneType' object has no attribute 'text'\n",
      "error in link:https://malaysiagazette.com/2019/07/06/sarawak-kekalkan-had-umur-belia/\n",
      "'NoneType' object has no attribute 'text'\n",
      "error in link:https://malaysiagazette.com/2018/12/18/ibu-saudara-mahu-pembunuh-muhammad-adib-dikenakan-hukuman-setimpal/\n",
      "'NoneType' object has no attribute 'text'\n",
      "error in link:https://malaysiagazette.com/2021/03/21/all-england-zii-jia-ke-final-beregu-campuran-terkandas/\n",
      "'NoneType' object has no attribute 'text'\n",
      "error in link:https://malaysiagazette.com/2020/01/25/tiga-kes-positif-koronavirus-dikesan-di-malaysia/\n",
      "'NoneType' object has no attribute 'text'\n",
      "error in link:https://malaysiagazette.com/2017/06/14/lima-penuntut-upnm-dituduh-bunuh-zulfarhan-seorang-bersubahat/\n",
      "'NoneType' object has no attribute 'text'\n",
      "error in link:https://malaysiagazette.com/2017/11/19/husam-tidak-tahu-anaknya-ditahan-kerana-miliki-pil-kuda/\n",
      "'NoneType' object has no attribute 'text'\n",
      "error in link:https://malaysiagazette.com/2023/02/13/isu-pelekat-cukai-jalan-nampak-sangat-pas-tak-patut-jadi-kerajaan-syahredzan/\n",
      "'NoneType' object has no attribute 'text'\n",
      "error in link:https://malaysiagazette.com/2022/11/15/najib-kecewa-namanya-masih-dijadikan-propaganda-seteru-politik/\n",
      "'NoneType' object has no attribute 'text'\n",
      "error in link:https://malaysiagazette.com/2020/08/25/hasrat-saya-tercapai-sebelum-tutup-mata-tok-mat/\n",
      "'NoneType' object has no attribute 'text'\n",
      "error in link:https://malaysiagazette.com/2019/02/20/mof-permudahkan-proses-pendaftaran-bsh/\n",
      "'NoneType' object has no attribute 'text'\n",
      "error in link:https://malaysiagazette.com/2018/10/02/tiada-maaf-untuk-raja-petra-parti-mira/\n",
      "'NoneType' object has no attribute 'text'\n",
      "error in link:https://malaysiagazette.com/2022/04/22/erik-pengurus-tetap-red-devils/\n",
      "'NoneType' object has no attribute 'text'\n",
      "error in link:https://malaysiagazette.com/2019/04/21/isu-program-matrikulasi-dibawa-ke-jemaah-menteri/\n",
      "'NoneType' object has no attribute 'text'\n",
      "error in link:https://malaysiagazette.com/2021/06/12/kempen-stay-safe-win-sspn-i-2021-tawar-hadiah-hampir-rm240000/\n",
      "'NoneType' object has no attribute 'text'\n",
      "error in link:https://malaysiagazette.com/2023/02/22/syaaban-bulan-zakat-dan-wakaf-pahang/\n",
      "'NoneType' object has no attribute 'text'\n",
      "error in link:https://malaysiagazette.com/2022/03/30/rafizi-batu-api-cuba-lagakan-muhyiddin-najib-mohd-sharkar/\n",
      "'NoneType' object has no attribute 'text'\n",
      "error in link:https://malaysiagazette.com/2020/04/28/suntik-dengan-pelali-sebelum-sumbat-dua-lembu-dalam-myvi/\n",
      "'NoneType' object has no attribute 'text'\n",
      "error in link:https://malaysiagazette.com/2019/01/02/pesara-tentera-as-ditahan-moscow-bukan-pengintip/\n",
      "'NoneType' object has no attribute 'text'\n",
      "error in link:https://malaysiagazette.com/2017/11/30/umno-tetap-benteng-terakhir-islam-melayu-tpm/\n",
      "'NoneType' object has no attribute 'text'\n",
      "error in link:https://malaysiagazette.com/2017/02/06/lcw-cedera-tarik-diri-dari-england/\n",
      "'NoneType' object has no attribute 'text'\n",
      "error in link:https://malaysiagazette.com/2019/06/19/jumlah-kemalangan-masih-membimbangkan-anthony-loke/\n",
      "'NoneType' object has no attribute 'text'\n",
      "error in link:https://malaysiagazette.com/2020/09/24/azmin-perlekeh-anwar-isu-mahu-gulingkan-pn/\n",
      "'NoneType' object has no attribute 'text'\n",
      "error in link:https://malaysiagazette.com/2017/06/29/mereka-adalah-keluarga-kami-selama-lamanya-pengasas-rpwp/\n",
      "'NoneType' object has no attribute 'text'\n",
      "error in link:https://malaysiagazette.com/2023/05/20/ravichandran-tawan-everest-buat-kali-keempat/\n",
      "'NoneType' object has no attribute 'text'\n",
      "error in link:https://malaysiagazette.com/2021/10/25/kepulangan-penuh-transformasi/\n",
      "'NoneType' object has no attribute 'text'\n",
      "error in link:https://malaysiagazette.com/2018/05/13/neymar-2000-pasti-kekal-di-psg/\n",
      "'NoneType' object has no attribute 'text'\n"
     ]
    }
   ],
   "source": [
    " with open(f'malaysiagazette-link.json', 'a') as f:\n",
    "        json.dump(hrefs, f)"
   ]
  },
  {
   "cell_type": "code",
   "execution_count": 20,
   "id": "fdb5389e",
   "metadata": {},
   "outputs": [],
   "source": [
    "hrefs = list(set(url))"
   ]
  },
  {
   "cell_type": "code",
   "execution_count": 21,
   "id": "232669a3",
   "metadata": {
    "scrolled": true
   },
   "outputs": [
    {
     "data": {
      "text/plain": [
       "130522"
      ]
     },
     "execution_count": 21,
     "metadata": {},
     "output_type": "execute_result"
    }
   ],
   "source": [
    "len(hrefs)"
   ]
  },
  {
   "cell_type": "code",
   "execution_count": 7,
   "id": "54d152e2",
   "metadata": {},
   "outputs": [],
   "source": [
    "def process_url(x):\n",
    "    \n",
    "    while True:\n",
    "        try:\n",
    "            r = requests.get(x, headers=headers)\n",
    "            break\n",
    "        except Exception as e:\n",
    "            print(e)\n",
    "            time.sleep(5.0)\n",
    "    \n",
    "    soup = BeautifulSoup(r.text, \"lxml\")\n",
    "\n",
    "    try:\n",
    "        headline = soup.find('h1', class_=\"entry-title\").text\n",
    "        h = soup.find('div', class_=\"td-post-content td-pb-padding-side\")\n",
    "        p = [p.text for p in h.find_all(\"p\")]\n",
    "    except Exception as e:\n",
    "        print('error in link:'+ x)\n",
    "        print(e)\n",
    "        return None\n",
    "\n",
    "    \n",
    "    data = {'url': x, 'headline': headline, 'content': p}\n",
    "    return data"
   ]
  },
  {
   "cell_type": "code",
   "execution_count": 24,
   "id": "5fb00ed7",
   "metadata": {},
   "outputs": [
    {
     "name": "stderr",
     "output_type": "stream",
     "text": [
      "\r",
      "  0%|                                                                                                                                                                                                | 0/58 [00:00<?, ?it/s]"
     ]
    },
    {
     "name": "stdout",
     "output_type": "stream",
     "text": [
      "error in link:https://malaysiagazette.com/2018/10/14/gerakan-masih-relevan-lebih-ramai-masuk-dari-keluar-parti-mah-siew-keong/\n",
      "'NoneType' object has no attribute 'text'\n",
      "error in link:https://malaysiagazette.com/2018/09/08/proses-mengundi-di-prk-balakong-mula-8-pagi/\n",
      "'NoneType' object has no attribute 'text'\n"
     ]
    },
    {
     "name": "stderr",
     "output_type": "stream",
     "text": [
      "\r",
      "  2%|███▏                                                                                                                                                                                    | 1/58 [00:02<02:07,  2.23s/it]"
     ]
    },
    {
     "name": "stdout",
     "output_type": "stream",
     "text": [
      "error in link:https://malaysiagazette.com/2018/09/08/calon-ph-seri-setia-minta-pengundi-keluar-awal/\n",
      "'NoneType' object has no attribute 'text'\n",
      "error in link:https://malaysiagazette.com/2017/03/02/15858/\n",
      "'NoneType' object has no attribute 'text'\n"
     ]
    },
    {
     "name": "stderr",
     "output_type": "stream",
     "text": [
      "\r",
      "  3%|██████▎                                                                                                                                                                                 | 2/58 [00:03<01:36,  1.72s/it]"
     ]
    },
    {
     "name": "stdout",
     "output_type": "stream",
     "text": [
      "error in link:https://malaysiagazette.com/2016/12/18/1589/\n",
      "'NoneType' object has no attribute 'text'\n"
     ]
    },
    {
     "name": "stderr",
     "output_type": "stream",
     "text": [
      "100%|███████████████████████████████████████████████████████████████████████████████████████████████████████████████████████████████████████████████████████████████████████████████████████| 58/58 [00:36<00:00,  1.61it/s]\n"
     ]
    }
   ],
   "source": [
    "max_workers = 5\n",
    "\n",
    "with ThreadPoolExecutor(max_workers=max_workers) as executor:\n",
    "    futures = [executor.submit(process_url, x) for x in not_yet_scrape]\n",
    "    \n",
    "    for future in tqdm(futures, total=len(not_yet_scrape)):\n",
    "        result = future.result()\n",
    "        if result:\n",
    "            with open('malaysiagazette.jsonl', 'a') as f:\n",
    "                json.dump(result, f)\n",
    "                f.write('\\n')"
   ]
  }
 ],
 "metadata": {
  "kernelspec": {
   "display_name": "Python 3 (ipykernel)",
   "language": "python",
   "name": "python3"
  },
  "language_info": {
   "codemirror_mode": {
    "name": "ipython",
    "version": 3
   },
   "file_extension": ".py",
   "mimetype": "text/x-python",
   "name": "python",
   "nbconvert_exporter": "python",
   "pygments_lexer": "ipython3",
   "version": "3.8.10"
  }
 },
 "nbformat": 4,
 "nbformat_minor": 5
}
